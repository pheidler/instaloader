{
 "cells": [
  {
   "cell_type": "code",
   "execution_count": 1,
   "metadata": {},
   "outputs": [],
   "source": [
    "import instaloader\n",
    "\n",
    "#gets instance of instaloader\n",
    "L = instaloader.Instaloader()"
   ]
  },
  {
   "cell_type": "code",
   "execution_count": 2,
   "metadata": {},
   "outputs": [],
   "source": [
    "#Creates class for mapping posts\n",
    "class geoPosts:\n",
    "    def __init__(self, username, url, description, location):\n",
    "        self.username = username\n",
    "        self.url = url\n",
    "        self.description = description\n",
    "        self.location = location\n",
    "       # self.description = description\n",
    "    \n",
    "    def getUsername(self):\n",
    "        return self.username\n",
    "    def getURL(self):\n",
    "        return self.url\n",
    "    def getDescription(self):\n",
    "        return self.description\n",
    "    def getLocation(self):\n",
    "        return self.location\n",
    "    \n",
    "    "
   ]
  },
  {
   "cell_type": "code",
   "execution_count": 5,
   "metadata": {},
   "outputs": [
    {
     "name": "stdout",
     "output_type": "stream",
     "text": [
      "breaking\n"
     ]
    }
   ],
   "source": [
    "locationList = []\n",
    "posts = L.get_hashtag_posts(\"materialmelttest\")\n",
    "postInfo = []\n",
    "print(len(posts))\n",
    "for post in posts:\n",
    "\n",
    "    try:\n",
    "       # if hasattr(post, location):\n",
    "       postInfo.append(geoPosts(post.owner_username, post.url, post.caption, post.location.name))\n",
    "        \n",
    "       # locationList.append(post.location.name)\n",
    "    except AttributeError:\n",
    "        print(\"breaking\")\n",
    "        break\n",
    "\n"
   ]
  },
  {
   "cell_type": "code",
   "execution_count": 6,
   "metadata": {},
   "outputs": [
    {
     "name": "stdout",
     "output_type": "stream",
     "text": [
      "0\n"
     ]
    }
   ],
   "source": [
    "print(len(postInfo))\n",
    "for x in range(0,len(postInfo)):\n",
    "    print(postInfo[x].getUsername())\n",
    "    print(postInfo[x].getURL())\n",
    "    print(postInfo[x].getDescription())\n",
    "    print(postInfo[x].getLocation())"
   ]
  },
  {
   "cell_type": "code",
   "execution_count": null,
   "metadata": {},
   "outputs": [],
   "source": []
  }
 ],
 "metadata": {
  "kernelspec": {
   "display_name": "Python 3",
   "language": "python",
   "name": "python3"
  },
  "language_info": {
   "codemirror_mode": {
    "name": "ipython",
    "version": 3
   },
   "file_extension": ".py",
   "mimetype": "text/x-python",
   "name": "python",
   "nbconvert_exporter": "python",
   "pygments_lexer": "ipython3",
   "version": "3.5.2"
  }
 },
 "nbformat": 4,
 "nbformat_minor": 2
}
