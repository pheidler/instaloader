{
 "cells": [
  {
   "cell_type": "code",
   "execution_count": 34,
   "metadata": {},
   "outputs": [],
   "source": [
    "import instaloader\n",
    "\n",
    "#gets instance of instaloader\n",
    "L = instaloader.Instaloader()"
   ]
  },
  {
   "cell_type": "code",
   "execution_count": 35,
   "metadata": {},
   "outputs": [],
   "source": [
    "#Creates class for mapping posts\n",
    "class geoPosts:\n",
    "    def __init__(self, username, url, description, location):\n",
    "        self.username = username\n",
    "        self.url = url\n",
    "        self.description = description\n",
    "        self.location = location\n",
    "       # self.description = description\n",
    "    \n",
    "    def getUsername(self):\n",
    "        return self.username\n",
    "    def getURL(self):\n",
    "        return self.url\n",
    "    def getDescription(self):\n",
    "        return self.description\n",
    "    def getLocation(self):\n",
    "        return self.location\n",
    "    \n",
    "    "
   ]
  },
  {
   "cell_type": "code",
   "execution_count": 23,
   "metadata": {},
   "outputs": [
    {
     "name": "stdout",
     "output_type": "stream",
     "text": [
      "woodfirelust\n",
      "bluepotter\n",
      "bluepotter\n",
      "bluepotter\n",
      "bluepotter\n"
     ]
    }
   ],
   "source": [
    "locationList = []\n",
    "posts = L.get_hashtag_posts(\"materialmelttest\")\n",
    "postInfo = []\n",
    "\n",
    "for post in posts:\n",
    "    #filters out posts missing geotags\n",
    "    if hasattr(post.location,'name'):\n",
    "        try:\n",
    "            #for testing purposes\n",
    "            print(post.owner_username)\n",
    "        \n",
    "            #creates new geoPost object that stores information about post\n",
    "            postInfo.append(geoPosts(post.owner_username, post.url, post.caption, post.location.name))\n",
    "\n",
    "           # locationList.append(post.location.name)\n",
    "        except AttributeError:\n",
    "            print(\"breaking\")\n",
    "            #break\n",
    "\n"
   ]
  },
  {
   "cell_type": "code",
   "execution_count": 33,
   "metadata": {},
   "outputs": [
    {
     "name": "stdout",
     "output_type": "stream",
     "text": [
      "1.\n",
      "woodfirelust\n",
      "https://scontent-lax3-1.cdninstagram.com/vp/6c740f9cffe9b6b7e1a0139014cbfaa0/5CDC8076/t51.2885-15/e35/47690216_349976288889317_602438498651378813_n.jpg?_nc_ht=scontent-lax3-1.cdninstagram.com\n",
      "A melt test from a new project involving the Yogo Sapphire Mine. lamprophyre, an igneous rock, is crushed in order to harvest the sapphires. I’m looking more and more at how we can work with mining companies to obtain “waste” material and apply it to glaze making. Big thanks to Don and @jeweler_jason for sharing the material! #localglaze #wildglaze #glazechemistry #yogosapphire #materialmelttest #montana #interdisciplinaryart #ilovemytestkiln\n",
      "Bozeman, Montana\n",
      "2.\n",
      "bluepotter\n",
      "https://scontent-lax3-1.cdninstagram.com/vp/acaa07eda9f290d69fc5cedac4411254/5CFDE1FA/t51.2885-15/e35/46321554_1959343471038338_3018910295124196013_n.jpg?_nc_ht=scontent-lax3-1.cdninstagram.com\n",
      "It's still Monday in Alaska! Here's another Montana #MaterialMeltTest! \n",
      "This one is a sandstone. It's from the very prominent bluffs surrounding Billings, Montana. If I'm not mistaken, it was once sand and clay and soil which was later turned into a silty sandstone rock, and then eroded by the waves of an inland sea. It is now slowly decomposing back into sand and silt. I'd guess it's pretty typical of the sandstones I've tried - lots of silica and alumina. They need to be milled very finely to melt. A mix of 50% sandstone to 50% runny high flux materials make for interesting high fire glazes. Where it interacts with the soda, it fluxed nicely. \n",
      "If you know more about this one or any other, please comment and add to the record! Correct me or add what you know! The more the merrier 🔥🔥🔥 1.Location:. Near Billings International Airport\n",
      "\n",
      "2.Material: Tan grey sandstone/siltstone.\n",
      "\n",
      "3,4. Melt Test: left Cone 10 Soda Fire = very refractory, fluxed nicely with heavy soda. Right: Cone 11 Oxidation: Mostly stayed the same. Prospected Mix 1:1:1 Sandstone: Earthenware: WoodAsh looked like a very nice cone 10 oxidation/reduction amber glaze. .\n",
      ".\n",
      ".\n",
      "._____\n",
      "#Montana #clay #montanaclay #pottery #glaze #ceramics #glazetests #firing #kilnpeople #kiln #ceramic #rockhound #Billings #geology #science #fire #sandstone #glazes\n",
      "Billings, Montana\n",
      "3.\n",
      "bluepotter\n",
      "https://scontent-lax3-1.cdninstagram.com/vp/8e6b7fb350b2a16a77c7f12338013aaf/5CC62B1E/t51.2885-15/e35/47281870_368938016984281_6623624718476990217_n.jpg?_nc_ht=scontent-lax3-1.cdninstagram.com\n",
      "Monday means another Montana Material Melt Test! \n",
      "Here's the Chugwater formation, which is found all over the West. I found it here, exposed by this roadcut. It's a material that makes for great glazes straight out of the ground. It looks good in high fire reduction, making a tenmoku/persimmon glaze. In oxidation it's a suitable base for Oilspot glazes. The best was in a wood kiln. 🔥🔥🔥 1.Location:. NR-17 Road near Old Benbow Chromite Mine. Stillwater County, Montana \n",
      "2.Material: Red Clay and decomposed, crumbly siltstone. \n",
      "Formation/geology: Positively identified as Chugwater Formation Clay. \n",
      "3,4. Melt Test: Cone 10 Reduction = after milling and blunging it made a very nice tenmoku. In Cone 11 Oxidation it made a glossy black glaze. Additions of high iron materials made nice oilspots. Similar in some ways to Albany slip. It was a good base to mix with other found materials.\n",
      "#MaterialMeltTest\n",
      ".\n",
      ".\n",
      "._____\n",
      "#Montana #clay #montanaclay #pottery #glaze #ceramics #glaze testing #firing #kilnpeople #kiln #ceramic #rockhound #chugwater #geology #science #fire\n",
      "Nye, Montana\n",
      "4.\n",
      "bluepotter\n",
      "https://scontent-lax3-1.cdninstagram.com/vp/2adeec62a9ea2dbf19f683eff73fb956/5CC3D4A5/t51.2885-15/e35/45647309_260496354619121_2361213162022461672_n.jpg?_nc_ht=scontent-lax3-1.cdninstagram.com\n",
      "#MaterialMeltTest is a long term project I'm starting. Eventually I'll write a script on my blog to automatically collect these posts from Instagram and FB, pin them to a map, and put the information into a database. Rocks, clays, dirt, ash, mudpuddles, anything else gathered and melted! How cool would it be to open up a Google world map and see pins from across the planet with stuff that potters have collected and fired in kilns? 🔥🔥🔥 More than anything, I want to encourage collaboration between rockhounds/geologists/potters/scientists/alchemists/anyone else who is interested in this kinda thing. I want to get this research out of our studios and onto a free and open website. I want to involve other people. I only have so much time, energy, and motivation. We can set it up to start building itself - in the meantime I'll start collecting and organizing them. If you make your own glaze materials or know a potter who does you can contribute in any number of ways: Help Identify Stuff(geologists we need your help!), Share, Comment, or Post your own. \n",
      "Don't have a good camera? Don't do highfire? Don't make little melt dishes? Don't have a system for testing? Don't know anything about minerals? Don't have an Instagram square maker thingy? \n",
      "Doesn't matter! If you want to participate, use the hashtag and post what you got! \n",
      "Here's another sample format: \n",
      "_____\n",
      "\n",
      "1.Location: 📍Harbor Mountain Road, Baranof Island, Alaska, USA\n",
      "\n",
      "2.Material: Mud Puddle. Eroded Volcanic Ash/Soil\n",
      "\n",
      "3. Formation/Geology: Roadcut\n",
      "\n",
      "4. Miscellaneous info: Clay-like. High % fine clay and silt particles. High % organic material. Behaves like bentonite and gels in glaze bucket. Collected and melted by @bluepotter, 2018\n",
      "\n",
      "5.Melt: \n",
      "Bottom Left - 1260°C (Cone 10) Reduction\n",
      "Bottom Right - Detail\n",
      ".\n",
      ".\n",
      ".\n",
      "_____ \n",
      "#clay #glaze #pottery #ceramic #research #geology #science #whatisthisrock #kilnpeople #studio #craft #montana #material #ceramicglaze #ceramicaction #ceramics #pottersofinstagram #nerd #materialscience #reduction #glazetesting #testtiles #glazetests #rocks #rockhound  #contemporaryceramics\n",
      "Baranof Island\n",
      "5.\n",
      "bluepotter\n",
      "https://scontent-lax3-1.cdninstagram.com/vp/eb4c41771b50b02a9f4715087407042b/5CBF2F23/t51.2885-15/e35/46857023_557005648078655_5059721838354635721_n.jpg?_nc_ht=scontent-lax3-1.cdninstagram.com\n",
      "📦 I've got a box full of material tests I made in Montana that I never really shared. I'm gonna start posting one or two of them every monday. There's about 40 samples that I collected from all over the Beartooth Mountains. Some of them I know a lot about and some of them I don't really even know what they are. Here's an example of one that I've got a good guess, but have not positively dentified. \n",
      "I'm gonna start tagging these posts #MaterialMeltTest and start putting together a world wide database on my blog. It's a long term project I can add to gradually. I hope the format and hashtag catches on and it becomes a thing. Rocks, clays, dirt, ash, mudpuddles, or anything else gathered and melted! I'd like it to encourage collaboration between rockhounds/geologists/potters/scientists/alchemists/anyone else who is interested in this kinda thing. If you make your own glaze materials or know a potter who does you can contribute in any number of ways: Help Identify, Share, Comment, or Post. Here's a sample format: \n",
      "_____\n",
      "\n",
      "1.Location: 📍Rock Creek, Near Red Lodge, Montana \n",
      "2.Material: Unidentified River Rock ( I'm guessing a very coarse grained porphyrittic granite or rhyolite. Contains Quartz, Plagioclase Feldspar, Biotite, ...?) #whatisthisrock\n",
      "\n",
      "3. Formation/Geology: Bearooth Mountain Range, Rock Creek River Rock \n",
      "4. Miscellaneous info: Hard, Dense Rock. Difficult to break. Suitable for further glaze development. Collected and melted by @bluepotter, 2017.\n",
      "\n",
      "5.Melt: \n",
      "Bottom Left - 1280°C (Cone 11) Oxidation. \n",
      "Bottom Right - 1260°C (Reduction)\n",
      ".\n",
      ".\n",
      ".\n",
      "_____ \n",
      "#clay #glaze #pottery #ceramic #research #geology #science #whatisthis #kilnpeople #studio #craft #montana #material #ceramicglaze #ceramicaction #ceramics #pottersofinstagram #materialscience #reduction #testtiles #glazetests #rocks #rockhound #contemporaryceramics #ceramicart #fire\n",
      "Red Lodge Clay Studio\n"
     ]
    }
   ],
   "source": [
    "\n",
    "for x in range(0,len(postInfo)):\n",
    "    print((\"%i.\")%(x+1))\n",
    "    print(postInfo[x].getUsername())\n",
    "    print(postInfo[x].getURL())\n",
    "    print(postInfo[x].getDescription())\n",
    "    print(postInfo[x].getLocation())"
   ]
  },
  {
   "cell_type": "code",
   "execution_count": null,
   "metadata": {},
   "outputs": [],
   "source": []
  }
 ],
 "metadata": {
  "kernelspec": {
   "display_name": "Python 3",
   "language": "python",
   "name": "python3"
  },
  "language_info": {
   "codemirror_mode": {
    "name": "ipython",
    "version": 3
   },
   "file_extension": ".py",
   "mimetype": "text/x-python",
   "name": "python",
   "nbconvert_exporter": "python",
   "pygments_lexer": "ipython3",
   "version": "3.5.2"
  }
 },
 "nbformat": 4,
 "nbformat_minor": 2
}
